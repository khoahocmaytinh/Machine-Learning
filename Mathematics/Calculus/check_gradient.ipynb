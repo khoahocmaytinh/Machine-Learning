{
  "nbformat": 4,
  "nbformat_minor": 0,
  "metadata": {
    "colab": {
      "name": "check gradient.ipynb",
      "provenance": []
    },
    "kernelspec": {
      "name": "python3",
      "display_name": "Python 3"
    }
  },
  "cells": [
    {
      "cell_type": "code",
      "metadata": {
        "id": "ycgvg3PLHYR9",
        "colab_type": "code",
        "colab": {}
      },
      "source": [
        "import numpy as np"
      ],
      "execution_count": 0,
      "outputs": []
    },
    {
      "cell_type": "code",
      "metadata": {
        "id": "pnWjPWsqTGa4",
        "colab_type": "code",
        "colab": {}
      },
      "source": [
        "def check_grad(fx, gr, X):\n",
        "  eps = 1e-6 # a small number, 1e-10 -> 1e-6 is usually good\n",
        "  grad = np.zeros_like(X)\n",
        "\n",
        "  for i in range(X.shape[0]):\n",
        "    for j in range(X.shape[1]):\n",
        "      Xp = X.copy()\n",
        "      Xn = X.copy()\n",
        "      Xp[i, j] += eps\n",
        "      Xn[i, j] -= eps\n",
        "      grad[i, j] = (fx(Xp) - fx(Xn))/(2*eps)\n",
        "  diff = np.linalg.norm(grad - gr(X))\n",
        "  print('Difference between two methods should be small: ', diff)"
      ],
      "execution_count": 0,
      "outputs": []
    },
    {
      "cell_type": "markdown",
      "metadata": {
        "id": "h53mJBC3VFac",
        "colab_type": "text"
      },
      "source": [
        "## Test f(X) = trace(AX)"
      ]
    },
    {
      "cell_type": "code",
      "metadata": {
        "id": "q-CcN_tOaMBl",
        "colab_type": "code",
        "colab": {}
      },
      "source": [
        "m, n = 10, 20\n",
        "A = np.random.randn(m, n)\n",
        "X = np.random.randn(n, m)"
      ],
      "execution_count": 0,
      "outputs": []
    },
    {
      "cell_type": "code",
      "metadata": {
        "id": "EwaPztzSUPbv",
        "colab_type": "code",
        "colab": {}
      },
      "source": [
        "def fx(X):\n",
        "  return np.trace(A.dot(X))"
      ],
      "execution_count": 0,
      "outputs": []
    },
    {
      "cell_type": "code",
      "metadata": {
        "id": "MW7NDzO4UYkc",
        "colab_type": "code",
        "colab": {}
      },
      "source": [
        "def grad(X):\n",
        "  return A.T "
      ],
      "execution_count": 0,
      "outputs": []
    },
    {
      "cell_type": "code",
      "metadata": {
        "id": "g3gF3G2AXmog",
        "colab_type": "code",
        "colab": {
          "base_uri": "https://localhost:8080/",
          "height": 34
        },
        "outputId": "3ccf7eb9-2459-405a-b742-f1ebafbae07b"
      },
      "source": [
        "check_grad(fx, grad, X)"
      ],
      "execution_count": 23,
      "outputs": [
        {
          "output_type": "stream",
          "text": [
            "Difference between two methods should be small:  1.08320439522208e-08\n"
          ],
          "name": "stdout"
        }
      ]
    }
  ]
}